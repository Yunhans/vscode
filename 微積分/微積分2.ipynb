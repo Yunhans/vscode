{
 "cells": [
  {
   "cell_type": "code",
   "execution_count": null,
   "metadata": {},
   "outputs": [],
   "source": [
    "# 串列 list\n",
    "a = [3,2,3,1]\n",
    "b = ['圓周率',3.14]\n",
    "c = [[3,4],[5],6]\n",
    "d = []\n",
    "e,f = [2],[8,6]\n",
    "g = [0] * 99            # 99 個 0 元素\n",
    "h = [1,2] * 3           # [1,2,1,2,1,2]"
   ]
  },
  {
   "cell_type": "code",
   "execution_count": null,
   "metadata": {},
   "outputs": [],
   "source": [
    "# 規律元素可併用 range 初始化 list\n",
    "a = list(range(5))              # a = [0,1,2,3,4]\n",
    "b = list(range(1,10,2))         # b = [1,3,5,7,9]\n",
    "c = list(range(1,4)) * 2        # c = [1,2,3,1,2,3]"
   ]
  },
  {
   "cell_type": "code",
   "execution_count": null,
   "metadata": {},
   "outputs": [],
   "source": [
    "# list 長度可用 len\n",
    "a = len([8,3,9,1])              # a = 4\n",
    "b = len([[3,4,5],5,[2,3]])        # b = 3\n",
    "c = len([])                     # c = 0"
   ]
  },
  {
   "cell_type": "code",
   "execution_count": null,
   "metadata": {},
   "outputs": [],
   "source": [
    "# 下標範圍\n",
    "a = list(range(10))\n",
    "# i,j,k 為整數\n",
    "print(a[:])\n",
    "print[i:]\n",
    "print[:j]\n",
    "print[i:j]\n",
    "print[i:j:k]\n",
    "print\n"
   ]
  },
  {
   "cell_type": "code",
   "execution_count": null,
   "metadata": {},
   "outputs": [],
   "source": [
    "# 大樂透\n",
    "from random import *\n",
    "a = list(range(1,50))\n",
    "\n",
    "shuffle(a)\n",
    "\n",
    "for x in sorted(a[:6]):\n",
    "    print(x,end=' ')"
   ]
  },
  {
   "cell_type": "code",
   "execution_count": null,
   "metadata": {},
   "outputs": [],
   "source": [
    "# 隨機抽五色球五次，取後放回\n",
    "import random\n",
    "balls = ['red','white','black','yellow','blue']\n",
    "\n",
    "a = [random.choice(balls) for i in range(5)]\n",
    "\n",
    "for x in a :\n",
    "    print(x,end=' ')"
   ]
  },
  {
   "cell_type": "code",
   "execution_count": null,
   "metadata": {},
   "outputs": [],
   "source": [
    "# 擲骰子三次加起來\n",
    "print( sum( [randint(1,6) for i in range(3)] ) )"
   ]
  }
 ],
 "metadata": {
  "interpreter": {
   "hash": "aee8b7b246df8f9039afb4144a1f6fd8d2ca17a180786b69acc140d282b71a49"
  },
  "kernelspec": {
   "display_name": "Python 3 (ipykernel)",
   "language": "python",
   "name": "python3"
  },
  "language_info": {
   "codemirror_mode": {
    "name": "ipython",
    "version": 3
   },
   "file_extension": ".py",
   "mimetype": "text/x-python",
   "name": "python",
   "nbconvert_exporter": "python",
   "pygments_lexer": "ipython3",
   "version": "3.10.6"
  }
 },
 "nbformat": 4,
 "nbformat_minor": 4
}
