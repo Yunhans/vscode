{
 "cells": [
  {
   "cell_type": "code",
   "execution_count": 26,
   "metadata": {},
   "outputs": [
    {
     "name": "stdout",
     "output_type": "stream",
     "text": [
      "數學積分： 2.158204464\n",
      "\n",
      "迴圈求積：\n",
      "矩形積分  ： 2.145891345  誤差： 0.0123131185\n",
      "上矩形積分 ： 2.170532362  誤差： 0.0123278977\n",
      "下矩形積分 ： 2.145891345  誤差： 0.0123131185\n"
     ]
    }
   ],
   "source": [
    "from pylab import*\n",
    "a,b,n = 1,2,100\n",
    "def f(x):\n",
    "    return lambda x : x * sqrt(2*x-1)\n",
    "xs,h = linspace(a,b,n+1,retstep=True)\n",
    "ys = xs * sqrt(2*xs-1)\n",
    "rsum,lsum,usum = 0,0,0\n",
    "y1 = ys[0]\n",
    "for y2 in ys[1:]:\n",
    "    rsum += y1\n",
    "    if y1<y2:\n",
    "        lsum += y1\n",
    "        usum += y2\n",
    "    else:\n",
    "        lsum += y2\n",
    "        usum += y1\n",
    "    y1 = y2\n",
    "rsum *= h\n",
    "lsum *= h\n",
    "usum *= h\n",
    "isum = -4/15 + 7*sqrt(3)/5\n",
    "print('數學積分：',round(isum,9),end='\\n\\n')\n",
    "print('迴圈求積：')\n",
    "print('矩形積分  ：',round(rsum,9),' 誤差：',round(abs(isum-rsum),10))\n",
    "print('上矩形積分 ：',round(usum,9),' 誤差：',round(abs(isum-usum),10))\n",
    "print('下矩形積分 ：',round(lsum,9),' 誤差：',round(abs(isum-lsum),10))"
   ]
  },
  {
   "cell_type": "code",
   "execution_count": 24,
   "metadata": {},
   "outputs": [
    {
     "data": {
      "text/latex": [
       "$\\displaystyle - \\frac{4}{15} + \\frac{7 \\sqrt{3}}{5}$"
      ],
      "text/plain": [
       "-4/15 + 7*sqrt(3)/5"
      ]
     },
     "execution_count": 24,
     "metadata": {},
     "output_type": "execute_result"
    }
   ],
   "source": [
    "from sympy import*\n",
    "var('x')\n",
    "integrate(x * sqrt(2*x-1),(x,1,2))"
   ]
  }
 ],
 "metadata": {
  "interpreter": {
   "hash": "aee8b7b246df8f9039afb4144a1f6fd8d2ca17a180786b69acc140d282b71a49"
  },
  "kernelspec": {
   "display_name": "Python 3.9.7 64-bit",
   "language": "python",
   "name": "python3"
  },
  "language_info": {
   "codemirror_mode": {
    "name": "ipython",
    "version": 3
   },
   "file_extension": ".py",
   "mimetype": "text/x-python",
   "name": "python",
   "nbconvert_exporter": "python",
   "pygments_lexer": "ipython3",
   "version": "3.9.7"
  },
  "orig_nbformat": 4
 },
 "nbformat": 4,
 "nbformat_minor": 2
}
