{
 "cells": [
  {
   "cell_type": "code",
   "execution_count": null,
   "metadata": {},
   "outputs": [],
   "source": [
    "# Q(1)\n",
    "a = int(input('>'))\n",
    "print(a-1,a,a+1)"
   ]
  },
  {
   "cell_type": "code",
   "execution_count": null,
   "metadata": {},
   "outputs": [],
   "source": [
    "# Q(2)\n",
    "a = input('>')\n",
    "print(a[0],a[0],a[1],a[1],sep='')"
   ]
  },
  {
   "cell_type": "code",
   "execution_count": null,
   "metadata": {},
   "outputs": [],
   "source": [
    "# Q(3)\n",
    "a = 1\n",
    "for i in range(1,6):\n",
    "    print(i*a)\n",
    "    i += 1\n",
    "    a = a * 10 + 1\n",
    "\n",
    "a = 1\n",
    "for i in range(1,6):\n",
    "    print(i * a)\n",
    "    i += 1\n",
    "    a = str(a)\n",
    "    a += '1'\n",
    "    a = int(a)"
   ]
  },
  {
   "cell_type": "code",
   "execution_count": null,
   "metadata": {},
   "outputs": [],
   "source": [
    "# Q(4)\n",
    "a = 10\n",
    "while a < 100 :\n",
    "    if (a%7 != 0) and (a%9 != 0) :\n",
    "        print(a)\n",
    "        a += 1\n",
    "    else :\n",
    "        a += 1"
   ]
  }
 ],
 "metadata": {
  "interpreter": {
   "hash": "aee8b7b246df8f9039afb4144a1f6fd8d2ca17a180786b69acc140d282b71a49"
  },
  "kernelspec": {
   "display_name": "Python 3.9.7 64-bit",
   "name": "python3"
  },
  "language_info": {
   "codemirror_mode": {
    "name": "ipython",
    "version": 3
   },
   "file_extension": ".py",
   "mimetype": "text/x-python",
   "name": "python",
   "nbconvert_exporter": "python",
   "pygments_lexer": "ipython3",
   "version": "3.9.7"
  },
  "orig_nbformat": 4
 },
 "nbformat": 4,
 "nbformat_minor": 2
}
