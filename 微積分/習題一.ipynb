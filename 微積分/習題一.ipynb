{
 "cells": [
  {
   "cell_type": "code",
   "execution_count": null,
   "metadata": {},
   "outputs": [],
   "source": [
    "from pylab import *\n",
    "\n",
    "a,b,n = 0,50,1000\n",
    "h = (b-a)/(n-1)\n",
    "x = linspace(a,b,n)\n",
    "\n",
    "def f(x):\n",
    "    return (2+sin(x/pi))/(2-sin(x/pi))\n",
    "\n",
    "def df(x,h):\n",
    "    return (f(x+h)-f(x))/h\n",
    "\n",
    "plot(x,f(x),color='blue')\n",
    "plot(x,df(x,h),color='green')\n",
    "title('f(x) = (2 + sin(x/pi))/(2 - sin(x/pi)) and compute derivative')\n",
    "grid()\n",
    "xlabel('X')\n",
    "ylabel('Y')\n",
    "xlim(0,50)\n",
    "ylim(-1,3)\n",
    "\n",
    "show()"
   ]
  }
 ],
 "metadata": {
  "interpreter": {
   "hash": "aee8b7b246df8f9039afb4144a1f6fd8d2ca17a180786b69acc140d282b71a49"
  },
  "kernelspec": {
   "display_name": "Python 3.9.7 64-bit",
   "name": "python3"
  },
  "language_info": {
   "codemirror_mode": {
    "name": "ipython",
    "version": 3
   },
   "file_extension": ".py",
   "mimetype": "text/x-python",
   "name": "python",
   "nbconvert_exporter": "python",
   "pygments_lexer": "ipython3",
   "version": "3.9.7"
  },
  "orig_nbformat": 4
 },
 "nbformat": 4,
 "nbformat_minor": 2
}
