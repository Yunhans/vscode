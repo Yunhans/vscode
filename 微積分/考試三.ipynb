{
 "cells": [
  {
   "cell_type": "code",
   "execution_count": null,
   "metadata": {},
   "outputs": [],
   "source": [
    "# Q1\n",
    "from pylab import *\n",
    "\n",
    "a = linspace(0,2*pi,7)\n",
    "b = linspace(0,2*pi,9)\n",
    "\n",
    "plot(cos(a),sin(a),color='red')\n",
    "plot(cos(b),sin(b),color='green')\n",
    "\n",
    "show()"
   ]
  },
  {
   "cell_type": "code",
   "execution_count": null,
   "metadata": {},
   "outputs": [],
   "source": [
    "# Q2-1\n",
    "from sympy import *\n",
    "\n",
    "var('x')\n",
    "f = 1/3 * x**4 + 3 * x**3 + 2 * x**2 - 11\n",
    "\n",
    "(f**3).subs(x,5)"
   ]
  },
  {
   "cell_type": "code",
   "execution_count": null,
   "metadata": {},
   "outputs": [],
   "source": [
    "# Q2-2\n",
    "from sympy import *\n",
    "\n",
    "var('x')\n",
    "f = 1/3 * x**4 + 3 * x**3 + 2 * x**2 - 11\n",
    "\n",
    "(f**2).expand()"
   ]
  },
  {
   "cell_type": "code",
   "execution_count": null,
   "metadata": {},
   "outputs": [],
   "source": [
    "# Q3\n",
    "from sympy import *\n",
    "\n",
    "var('x')\n",
    "f = (x + sin(x)) / x\n",
    "\n",
    "f.limit(x,oo)"
   ]
  },
  {
   "cell_type": "code",
   "execution_count": null,
   "metadata": {},
   "outputs": [],
   "source": [
    "# Q4\n",
    "from sympy import *\n",
    "\n",
    "var('x')\n",
    "f = 4 * x**3 - x**2 + 2 * x +sqrt(7)\n",
    "\n",
    "integrate(f,(x,-1,1))"
   ]
  }
 ],
 "metadata": {
  "interpreter": {
   "hash": "aee8b7b246df8f9039afb4144a1f6fd8d2ca17a180786b69acc140d282b71a49"
  },
  "kernelspec": {
   "display_name": "Python 3.9.7 64-bit",
   "name": "python3"
  },
  "language_info": {
   "codemirror_mode": {
    "name": "ipython",
    "version": 3
   },
   "file_extension": ".py",
   "mimetype": "text/x-python",
   "name": "python",
   "nbconvert_exporter": "python",
   "pygments_lexer": "ipython3",
   "version": "3.9.7"
  },
  "orig_nbformat": 4
 },
 "nbformat": 4,
 "nbformat_minor": 2
}
