{
 "cells": [
  {
   "cell_type": "code",
   "execution_count": 2,
   "metadata": {},
   "outputs": [
    {
     "name": "stdout",
     "output_type": "stream",
     "text": [
      "2 18 20 22 24 28 特別號 8\n"
     ]
    }
   ],
   "source": [
    "# Q1\n",
    "from random import *\n",
    "willy = list(range(1,40))\n",
    "\n",
    "shuffle(willy)\n",
    "\n",
    "a = randint(1,8)\n",
    "\n",
    "for x in sorted(willy[:6]):\n",
    "    print(x,end=' ')\n",
    "print('特別號 ' + str(a))"
   ]
  },
  {
   "cell_type": "code",
   "execution_count": null,
   "metadata": {},
   "outputs": [],
   "source": [
    "# Q2\n",
    "from random import *\n",
    "a = int(input('>'))\n",
    "b = list(range(1,10))\n",
    "\n",
    "shuffle(b)\n",
    "\n",
    "i = 0\n",
    "while i < a :\n",
    "    print(str(b[i]) + '|' + '*' * b[i])\n",
    "    i += 1"
   ]
  },
  {
   "cell_type": "code",
   "execution_count": null,
   "metadata": {},
   "outputs": [],
   "source": [
    "# Q3-1\n",
    "from random import *\n",
    "dice = [1,2,3,4,5,6]\n",
    "roll = [choice(dice) for i in range(50)]\n",
    "\n",
    "i = 0\n",
    "a = 0\n",
    "b = 0\n",
    "c = 0\n",
    "d = 0\n",
    "e = 0\n",
    "f = 0\n",
    "while i < 50 :\n",
    "    if roll[i] == 1:\n",
    "        a += 1\n",
    "    elif roll[i] == 2:\n",
    "        b += 1\n",
    "    elif roll[i] == 3:\n",
    "        c += 1\n",
    "    elif roll[i] == 4:\n",
    "        d += 1\n",
    "    elif roll[i] == 5:\n",
    "        e += 1\n",
    "    elif roll[i] == 6:\n",
    "        f += 1\n",
    "    i += 1\n",
    "\n",
    "print('1 -> ' + str(a))\n",
    "print('2 -> ' + str(b))\n",
    "print('3 -> ' + str(c))\n",
    "print('4 -> ' + str(d))\n",
    "print('5 -> ' + str(e))\n",
    "print('6 -> ' + str(f))\n",
    "print('max = ' + str(max([a,b,c,d,e,f])))"
   ]
  }
 ],
 "metadata": {
  "interpreter": {
   "hash": "aee8b7b246df8f9039afb4144a1f6fd8d2ca17a180786b69acc140d282b71a49"
  },
  "kernelspec": {
   "display_name": "Python 3.9.7 64-bit",
   "name": "python3"
  },
  "language_info": {
   "codemirror_mode": {
    "name": "ipython",
    "version": 3
   },
   "file_extension": ".py",
   "mimetype": "text/x-python",
   "name": "python",
   "nbconvert_exporter": "python",
   "pygments_lexer": "ipython3",
   "version": "3.9.7"
  },
  "orig_nbformat": 4
 },
 "nbformat": 4,
 "nbformat_minor": 2
}
