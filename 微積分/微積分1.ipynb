{
 "cells": [
  {
   "cell_type": "code",
   "execution_count": null,
   "source": [
    "# float 浮點數\n",
    "a = -2.3\n",
    "b = 4.5e3                                                       # 4500.0 科學記號\n",
    "c = -3.7e-3                                                     # -0.037 科學記號\n",
    "d = float(5)                                                    # 整數 5 --> 浮點數 5.0"
   ],
   "outputs": [],
   "metadata": {}
  },
  {
   "cell_type": "code",
   "execution_count": null,
   "source": [
    "# 記憶體無法存取無窮數字\n",
    "print(1/3)                                                      # 0.3333333333333333\n",
    "print(7*(1/7))                                                  # 1\n",
    "print((1/7)+(1/7)+(1/7)+(1/7)+(1/7)+(1/7)+(1/7))                # 0.9999999999999998"
   ],
   "outputs": [],
   "metadata": {}
  },
  {
   "cell_type": "code",
   "execution_count": null,
   "source": [
    "# 長度函式 len(字串)\n",
    "a = len('23423894023845456')                                    # 17\n",
    "print(a)"
   ],
   "outputs": [],
   "metadata": {}
  },
  {
   "cell_type": "code",
   "execution_count": null,
   "source": [
    "# print\n",
    "print(2021,9,28,sep='/',end='!')                                # 資料以 / 隔開,用 ！ 結尾且不換列"
   ],
   "outputs": [],
   "metadata": {}
  },
  {
   "cell_type": "code",
   "execution_count": null,
   "source": [
    "# input\n",
    "a = input(\"請輸入數字:\")\n",
    "b = int(input(\"請輸入數字:\"))\n",
    "print(a+a)\n",
    "print(b+b)\n",
    "\n",
    "c , d , e = eval(input('分別輸入c,d,e值:'))\n",
    "print(c)\n",
    "print(d) \n",
    "print(e)"
   ],
   "outputs": [],
   "metadata": {}
  },
  {
   "cell_type": "code",
   "execution_count": null,
   "source": [
    "# 比較運算子 小於 < , 小於或等於 <= , 等於 == , 大於 > , 大於或等於 >= , 不等於 !=\n",
    "print( 5 > 2 )\n",
    "print( 5 == 6 - 1 )\n",
    "print( (2 - 4) != (1 - 3) )\n",
    "print( 2 + 3 >= 4 )"
   ],
   "outputs": [],
   "metadata": {}
  },
  {
   "cell_type": "code",
   "execution_count": null,
   "source": [
    "# 邏輯運算子 回傳相反的真假值 not ,  兩者皆符合為真 and , 一個為真即為真 or\n",
    "print( not( 5 > 2) )\n",
    "print( (5 > 3) and (2 > 3) )\n",
    "print( (5 > 3) or (2 > 3) )"
   ],
   "outputs": [],
   "metadata": {}
  },
  {
   "cell_type": "code",
   "execution_count": null,
   "source": [
    "# range(a,b,c)\b --> a 為起始值, b 為終止值但不包括, c 為遞增遞減值\n",
    "range(5)            # 0,1,2,3,4\n",
    "range(5,8)          # 5,6,7\n",
    "range(1,6,2)        # 1,3,5\n",
    "range(5,-1,-1)      # 5,4,3,2,1,0\n",
    "range(10,0,-2)      # 10,8,6,4,2 不包括 0"
   ],
   "outputs": [],
   "metadata": {}
  },
  {
   "cell_type": "code",
   "execution_count": null,
   "source": [
    "# for 迴圈\n",
    "for i in range( 1,6 ):\n",
    "    print(i,i*i)"
   ],
   "outputs": [],
   "metadata": {}
  }
 ],
 "metadata": {
  "interpreter": {
   "hash": "aee8b7b246df8f9039afb4144a1f6fd8d2ca17a180786b69acc140d282b71a49"
  },
  "kernelspec": {
   "name": "python3",
   "display_name": "Python 3.9.7 64-bit"
  },
  "language_info": {
   "codemirror_mode": {
    "name": "ipython",
    "version": 3
   },
   "file_extension": ".py",
   "mimetype": "text/x-python",
   "name": "python",
   "nbconvert_exporter": "python",
   "pygments_lexer": "ipython3",
   "version": "3.9.7"
  }
 },
 "nbformat": 4,
 "nbformat_minor": 4
}