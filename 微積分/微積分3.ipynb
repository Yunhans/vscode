{
 "cells": [
  {
   "cell_type": "code",
   "execution_count": null,
   "metadata": {},
   "outputs": [],
   "source": [
    "from pylab import *\n",
    "\n",
    "x = linspace(0,2*pi,100)            # 區間 0 ~ 2π , 用 100 個點畫\n",
    "y = sin(x)\n",
    "\n",
    "plot(x,y)\n",
    "\n",
    "show()"
   ]
  },
  {
   "cell_type": "code",
   "execution_count": null,
   "metadata": {},
   "outputs": [],
   "source": [
    "# 改變顏色\n",
    "from pylab import *\n",
    "\n",
    "x = linspace(0,2*pi,100)\n",
    "y = sin(x)\n",
    "\n",
    "plot(x,y,color = 'red')\n",
    "title('sin(x)')\n",
    "xlabel('x',color = 'blue')\n",
    "ylabel('sin(x)',color = 'blue')\n",
    "\n",
    "\n",
    "show()"
   ]
  },
  {
   "cell_type": "code",
   "execution_count": null,
   "metadata": {},
   "outputs": [],
   "source": [
    "# 邊界 axis\n",
    "from pylab import *\n",
    "\n",
    "x = linspace(0,2*pi,100)\n",
    "y = sin(x)\n",
    "\n",
    "plot(x,y)\n",
    "title('sin(x)')\n",
    "\n",
    "grid(axis='both')\n",
    "#grid(axis='x')\n",
    "#grid(axis='y')\n",
    "#axis('off')\n",
    "xlim(0,2*pi)\n",
    "ylim(-1,1)\n",
    "\n",
    "show()"
   ]
  },
  {
   "cell_type": "code",
   "execution_count": null,
   "metadata": {},
   "outputs": [],
   "source": [
    "# 增加點座標 text(x,y,'(x1,y1)')\n",
    "from pylab import *\n",
    "\n",
    "x = linspace(0,2*pi,100)\n",
    "y = sin(x)\n",
    "\n",
    "plot(x,y)\n",
    "title('sin(x)')\n",
    "text(0,0,'(0,0)')\n",
    "text(1/2 * pi,1,'(π/2,1)')\n",
    "text(pi,0,'(π,0)')\n",
    "text(3/2 * pi,-1,'(3π/2,-1)')\n",
    "text(2 * pi,0,'(2π,0)')\n",
    "\n",
    "show()"
   ]
  },
  {
   "cell_type": "code",
   "execution_count": null,
   "metadata": {},
   "outputs": [],
   "source": [
    "# 極座標\n",
    "from pylab import *\n",
    "\n",
    "a = linspace(0,2*pi,100)\n",
    "\n",
    "plot(cos(a),sin(a))\n",
    "\n",
    "show()"
   ]
  },
  {
   "cell_type": "code",
   "execution_count": null,
   "metadata": {},
   "outputs": [],
   "source": [
    "# 菱形\n",
    "from pylab import *\n",
    "\n",
    "a = linspace(0,2*pi,5)\n",
    "\n",
    "plot(cos(a),sin(a))\n",
    "\n",
    "show()"
   ]
  },
  {
   "cell_type": "code",
   "execution_count": null,
   "metadata": {},
   "outputs": [],
   "source": [
    "# 正方形\n",
    "from pylab import *\n",
    "\n",
    "a = linspace(0.25*pi,2.25*pi,5)\n",
    "\n",
    "plot(cos(a),sin(a))\n",
    "\n",
    "show()"
   ]
  },
  {
   "cell_type": "code",
   "execution_count": null,
   "metadata": {},
   "outputs": [],
   "source": [
    "# 正五邊形\n",
    "from pylab import *\n",
    "\n",
    "a = linspace(0.5*pi,2.5*pi,6)\n",
    "\n",
    "plot(cos(a),sin(a))\n",
    "\n",
    "show()"
   ]
  },
  {
   "cell_type": "code",
   "execution_count": null,
   "metadata": {},
   "outputs": [],
   "source": [
    "# sympy\n",
    "from sympy import *\n",
    "\n",
    "var('x y')\n",
    "x ** y\n",
    "x ** 2 + x + 1"
   ]
  },
  {
   "cell_type": "code",
   "execution_count": null,
   "metadata": {},
   "outputs": [],
   "source": [
    "# 練習一\n",
    "from pylab import *\n",
    "\n",
    "x = linspace(1,4,100)\n",
    "\n",
    "plot(x**4 + 1)\n",
    "plot(tan(x))\n",
    "\n",
    "show()"
   ]
  },
  {
   "cell_type": "code",
   "execution_count": null,
   "metadata": {},
   "outputs": [],
   "source": [
    "# 練習二\n",
    "from pylab import *\n",
    "\n",
    "x1 = linspace(0,2*pi,100)\n",
    "x2 = linspace(0.25*pi,2.25*pi,5)\n",
    "\n",
    "plot(cos(x1),sin(x1),color = 'orange')\n",
    "plot(cos(x2),sin(x2))\n",
    "\n",
    "show()"
   ]
  },
  {
   "cell_type": "code",
   "execution_count": null,
   "metadata": {},
   "outputs": [],
   "source": [
    "# 練習三\n",
    "from sympy import *\n",
    "\n",
    "var('x')\n",
    "\n",
    "f = 1/3 * x**5 + 7 * x**3 + 9*x - 15\n",
    "f.diff()"
   ]
  }
 ],
 "metadata": {
  "interpreter": {
   "hash": "aee8b7b246df8f9039afb4144a1f6fd8d2ca17a180786b69acc140d282b71a49"
  },
  "kernelspec": {
   "display_name": "Python 3 (ipykernel)",
   "language": "python",
   "name": "python3"
  },
  "language_info": {
   "codemirror_mode": {
    "name": "ipython",
    "version": 3
   },
   "file_extension": ".py",
   "mimetype": "text/x-python",
   "name": "python",
   "nbconvert_exporter": "python",
   "pygments_lexer": "ipython3",
   "version": "3.10.6"
  }
 },
 "nbformat": 4,
 "nbformat_minor": 4
}
