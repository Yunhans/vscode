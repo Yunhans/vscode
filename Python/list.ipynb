{
 "cells": [
  {
   "cell_type": "code",
   "execution_count": null,
   "metadata": {},
   "outputs": [],
   "source": [
    "lst1 = []\n",
    "lst1\n",
    "type(lst1)"
   ]
  },
  {
   "cell_type": "code",
   "execution_count": null,
   "metadata": {},
   "outputs": [],
   "source": [
    "lst2 = [1,2,3,4,5]\n",
    "lst2\n",
    "del lst2[2]\n",
    "lst2"
   ]
  },
  {
   "cell_type": "code",
   "execution_count": null,
   "metadata": {},
   "outputs": [],
   "source": [
    "lst3 =['eng','70','math','comp','63']\n",
    "lst3\n",
    "lst3[1]\n",
    "lst3[1] = 86\n",
    "lst3\n",
    "lst3[2:4] = ['phys',50]\n",
    "lst3\n",
    "len(lst3)"
   ]
  },
  {
   "cell_type": "code",
   "execution_count": null,
   "metadata": {},
   "outputs": [],
   "source": [
    "list1 = [20, 40]\n",
    "list2 = [60, 80, 100]\n",
    "list1\n",
    "list2\n",
    "list1 + list2\n",
    "list1 * 3\n",
    "60 in list1\n",
    "40 not in list1"
   ]
  },
  {
   "cell_type": "code",
   "execution_count": null,
   "metadata": {},
   "outputs": [],
   "source": [
    "lst = list('Hello Python')\n",
    "lst[1:4]\n",
    "lst[1:6]\n",
    "lst[:8]\n",
    "lst[3:]\n",
    "lst[2:-1]\n",
    "lst[6:-2]\n",
    "lst[1:10:3]\n",
    "lst[1:len(lst):3]"
   ]
  },
  {
   "cell_type": "code",
   "execution_count": null,
   "metadata": {},
   "outputs": [],
   "source": [
    "list1 = [x for x in range(10)]\n",
    "list1"
   ]
  },
  {
   "cell_type": "code",
   "execution_count": null,
   "metadata": {},
   "outputs": [],
   "source": [
    "list2 = [x+1 for x in range(10)]\n",
    "list2"
   ]
  },
  {
   "cell_type": "code",
   "execution_count": null,
   "metadata": {},
   "outputs": [],
   "source": [
    "list3 = [x for x in range(10) if x%2==0]\n",
    "list3"
   ]
  },
  {
   "cell_type": "code",
   "execution_count": null,
   "metadata": {},
   "outputs": [],
   "source": [
    "list4 = [x*2 for x in range(10) if x%2==0]\n",
    "list4"
   ]
  },
  {
   "cell_type": "code",
   "execution_count": null,
   "metadata": {},
   "outputs": [],
   "source": [
    "list = [1,2,3]\n",
    "list.clear()\n",
    "list\n",
    "del list # delete name list5 in memory\n",
    "list"
   ]
  },
  {
   "cell_type": "code",
   "execution_count": null,
   "metadata": {},
   "outputs": [],
   "source": [
    "name = 'HugoStone'\n",
    "listname = list(name)\n",
    "listname"
   ]
  }
 ],
 "metadata": {
  "kernelspec": {
   "display_name": "Python 3.10.7 64-bit",
   "language": "python",
   "name": "python3"
  },
  "language_info": {
   "codemirror_mode": {
    "name": "ipython",
    "version": 3
   },
   "file_extension": ".py",
   "mimetype": "text/x-python",
   "name": "python",
   "nbconvert_exporter": "python",
   "pygments_lexer": "ipython3",
   "version": "3.10.8"
  },
  "orig_nbformat": 4,
  "vscode": {
   "interpreter": {
    "hash": "aee8b7b246df8f9039afb4144a1f6fd8d2ca17a180786b69acc140d282b71a49"
   }
  }
 },
 "nbformat": 4,
 "nbformat_minor": 2
}
