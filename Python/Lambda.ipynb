{
 "cells": [
  {
   "cell_type": "markdown",
   "metadata": {},
   "source": [
    "又稱為 Lambda 函數或是匿名(Anonymous) 函數  \n",
    "使用 “lambda” 關鍵字來建立匿名的函數  \n",
    "Lambda 運算可以接收多個引數，但只能執行一個運算，傳回一份資料  \n",
    "語意(Semantically) 上來說，Lambda 運算只是正規函數定義的語法糖 (syntactic sugar)  \n",
    "語法糖(Syntactic sugar)，也譯為糖衣語法，是由英國電腦科學家彼得·蘭丁發 明的一個術語，指電腦語言中添加的某種語法，這種語法對語言的功能沒有影 響，但是更方便程式設計師使用。語法糖讓程式更加簡潔，有更高的可讀性  \n",
    "Lambda函數不需要像正規函數定義那麼複雜，所以算是正規函數定義的語法糖  \n",
    "語法\n",
    "lambda [arg1 [,arg2,.....argn]]: expression\n"
   ]
  },
  {
   "cell_type": "code",
   "execution_count": 1,
   "metadata": {},
   "outputs": [
    {
     "name": "stdout",
     "output_type": "stream",
     "text": [
      "operate_on(16, 20, sum_data) =  36\n",
      "operate_on(10, 40, anonymous_function) = 50\n"
     ]
    }
   ],
   "source": [
    "# function: return sum of two values \n",
    "def sum_data(a, b):\n",
    "    return a+b\n",
    "# function: using function as parameter \n",
    "def operate_on(x, y, func): \n",
    "    return func(x, y)\n",
    "r = operate_on(16, 20, sum_data) # call function \n",
    "print('operate_on(16, 20, sum_data) = ',r)\n",
    "r = operate_on(10, 40, lambda a,b:a+b) # with lambda function \n",
    "print('operate_on(10, 40, anonymous_function) =', r)"
   ]
  }
 ],
 "metadata": {
  "kernelspec": {
   "display_name": "Python 3.10.8 64-bit",
   "language": "python",
   "name": "python3"
  },
  "language_info": {
   "codemirror_mode": {
    "name": "ipython",
    "version": 3
   },
   "file_extension": ".py",
   "mimetype": "text/x-python",
   "name": "python",
   "nbconvert_exporter": "python",
   "pygments_lexer": "ipython3",
   "version": "3.10.8"
  },
  "orig_nbformat": 4,
  "vscode": {
   "interpreter": {
    "hash": "aee8b7b246df8f9039afb4144a1f6fd8d2ca17a180786b69acc140d282b71a49"
   }
  }
 },
 "nbformat": 4,
 "nbformat_minor": 2
}
