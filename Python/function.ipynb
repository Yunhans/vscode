{
 "cells": [
  {
   "cell_type": "markdown",
   "metadata": {},
   "source": [
    "function 函式"
   ]
  },
  {
   "cell_type": "code",
   "execution_count": null,
   "metadata": {},
   "outputs": [],
   "source": [
    "def sum_nums(n1, n2):\n",
    "    return n1+n2\n",
    "    \n",
    "result = sum_nums(1,2)\n",
    "result"
   ]
  },
  {
   "cell_type": "markdown",
   "metadata": {},
   "source": [
    "三個雙引號三個雙引號可定義document string"
   ]
  },
  {
   "cell_type": "code",
   "execution_count": null,
   "metadata": {},
   "outputs": [],
   "source": [
    "def make_a_sound():\n",
    "    \"\"\"This function print duck's sound.\"\"\"\n",
    "    print('quack')\n",
    "\n",
    "make_a_sound() # try hover printer on the function"
   ]
  },
  {
   "cell_type": "code",
   "execution_count": null,
   "metadata": {},
   "outputs": [],
   "source": [
    "for i in range(3):\n",
    "    make_a_sound()"
   ]
  },
  {
   "cell_type": "markdown",
   "metadata": {},
   "source": [
    "變數\"i\"若沒使用可用下底線\"_\"代替"
   ]
  },
  {
   "cell_type": "code",
   "execution_count": null,
   "metadata": {},
   "outputs": [],
   "source": [
    "for _ in range(3):\n",
    "    make_a_sound()"
   ]
  },
  {
   "cell_type": "code",
   "execution_count": null,
   "metadata": {},
   "outputs": [],
   "source": [
    "print('hello')\n",
    "print('world')"
   ]
  },
  {
   "cell_type": "markdown",
   "metadata": {},
   "source": [
    "hw2 test"
   ]
  },
  {
   "cell_type": "code",
   "execution_count": null,
   "metadata": {},
   "outputs": [],
   "source": [
    "def hw2_0(rows=5):\n",
    "    output = ''\n",
    "    # ======↑請在這個區域寫程式↑=====\n",
    "    # ======↓請在這個區域寫程式↓=====\n",
    "    for i in range(rows):\n",
    "        output += f\"{' '*(rows-i-1)}{'* '*(i)}\"\n",
    "        output += '*\\n' if i!=rows-1 else '*'\n",
    "    return output\n",
    "\n",
    "print(hw2_0(6))"
   ]
  },
  {
   "cell_type": "code",
   "execution_count": null,
   "metadata": {},
   "outputs": [],
   "source": [
    "def operate_on(x, y, func):\n",
    "    return func(x, y)\n",
    "r = operate_on(10, 40, lambda a,b:a+b) # with lambda function \n",
    "print('operate_on(10, 40, anonymous_function) =', r)"
   ]
  },
  {
   "cell_type": "code",
   "execution_count": null,
   "metadata": {},
   "outputs": [],
   "source": [
    "globals()"
   ]
  }
 ],
 "metadata": {
  "kernelspec": {
   "display_name": "Python 3.10.8 64-bit",
   "language": "python",
   "name": "python3"
  },
  "language_info": {
   "codemirror_mode": {
    "name": "ipython",
    "version": 3
   },
   "file_extension": ".py",
   "mimetype": "text/x-python",
   "name": "python",
   "nbconvert_exporter": "python",
   "pygments_lexer": "ipython3",
   "version": "3.10.8"
  },
  "orig_nbformat": 4,
  "vscode": {
   "interpreter": {
    "hash": "aee8b7b246df8f9039afb4144a1f6fd8d2ca17a180786b69acc140d282b71a49"
   }
  }
 },
 "nbformat": 4,
 "nbformat_minor": 2
}
