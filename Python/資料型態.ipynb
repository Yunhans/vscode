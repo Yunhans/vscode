{
 "cells": [
  {
   "cell_type": "markdown",
   "metadata": {},
   "source": [
    "文字運算"
   ]
  },
  {
   "cell_type": "code",
   "execution_count": 27,
   "metadata": {},
   "outputs": [],
   "source": [
    "s1 = 'Hello'\n",
    "s1[0]\n",
    "s1[2]\n",
    "s1[-1]"
   ]
  },
  {
   "cell_type": "code",
   "execution_count": null,
   "metadata": {},
   "outputs": [],
   "source": [
    "s2 = 'Python Basics'\n",
    "s2[:]\n",
    "s2[4:]\n",
    "s2[:-1]\n",
    "s2[:11]\n",
    "s2[2:-1]\n",
    "s2[3:8:2]\n",
    "#'y' in s2\n"
   ]
  },
  {
   "cell_type": "code",
   "execution_count": null,
   "metadata": {},
   "outputs": [],
   "source": [
    "s3 = '###PYTHON###'\n",
    "s3.lower()\n",
    "s3.lstrip('#')\n",
    "s3.rstrip('#')\n",
    "s3.strip('#')\n"
   ]
  },
  {
   "cell_type": "code",
   "execution_count": null,
   "metadata": {},
   "outputs": [],
   "source": [
    "eval(input('do some math'))"
   ]
  },
  {
   "cell_type": "code",
   "execution_count": null,
   "metadata": {},
   "outputs": [],
   "source": [
    "print('Value={:1.2f}'.format(12.34567))"
   ]
  },
  {
   "cell_type": "code",
   "execution_count": null,
   "metadata": {},
   "outputs": [],
   "source": [
    "string1 = \"小明花105元買了蘋果\"\n",
    "string2 = \"小華花130元買了香蕉\"\n",
    "cost = str(int(string1[3:6])+int(string2[3:6]))\n",
    "\"小明和小華共花了\" + cost + \"元買水果\""
   ]
  },
  {
   "cell_type": "code",
   "execution_count": null,
   "metadata": {},
   "outputs": [],
   "source": [
    "output = \"\"\n",
    "for i in range(2,10):\n",
    "    for j in range(2,10):\n",
    "        output += f'{i} * {j} = {i*j}\\n'\n",
    "    if(i<9): output += '==\\n'\n",
    "output"
   ]
  },
  {
   "cell_type": "code",
   "execution_count": null,
   "metadata": {},
   "outputs": [],
   "source": [
    "str1 = \"abcdefghijk\"\n",
    "output = \"\"\n",
    "output = str(str1[0:2].upper() + 3*str1[2].upper() + str1[3] + 2*str1[8].upper() + str1[10] + str1[6].upper() + 2*str1[7].upper())\n",
    "output"
   ]
  }
 ],
 "metadata": {
  "kernelspec": {
   "display_name": "Python 3.10.6 64-bit",
   "language": "python",
   "name": "python3"
  },
  "language_info": {
   "codemirror_mode": {
    "name": "ipython",
    "version": 3
   },
   "file_extension": ".py",
   "mimetype": "text/x-python",
   "name": "python",
   "nbconvert_exporter": "python",
   "pygments_lexer": "ipython3",
   "version": "3.10.8"
  },
  "orig_nbformat": 4,
  "vscode": {
   "interpreter": {
    "hash": "aee8b7b246df8f9039afb4144a1f6fd8d2ca17a180786b69acc140d282b71a49"
   }
  }
 },
 "nbformat": 4,
 "nbformat_minor": 2
}
